for key in points:
    
sum += points[key]

print(int(sum))
