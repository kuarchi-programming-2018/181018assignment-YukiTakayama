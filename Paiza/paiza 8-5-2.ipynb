class Gakusei:
    
def __init__(self, kokugo, sansu):
        
self.kokugo = kokugo
       
 self.sansu  = sansu

    
def sum(self):
        
return self.kokugo + self.sansu


yamada = Gakusei(70, 43)

print("���v��" + str(yamada.sum()) + "�_�ł�")